{
 "cells": [
  {
   "cell_type": "code",
   "execution_count": 1,
   "metadata": {
    "collapsed": true
   },
   "outputs": [],
   "source": [
    "%matplotlib inline"
   ]
  },
  {
   "cell_type": "code",
   "execution_count": 2,
   "metadata": {
    "collapsed": false
   },
   "outputs": [],
   "source": [
    "import pandas as pd\n",
    "import numpy as np\n",
    "import datetime as dt"
   ]
  },
  {
   "cell_type": "code",
   "execution_count": 3,
   "metadata": {
    "collapsed": true
   },
   "outputs": [],
   "source": [
    "year ='2015'"
   ]
  },
  {
   "cell_type": "code",
   "execution_count": 9,
   "metadata": {
    "collapsed": false
   },
   "outputs": [],
   "source": [
    "data = pd.read_csv('/scratch/npatil4/networks/data/combined/data_'+year+'.csv',\n",
    "                  sep=',',nrows=10)"
   ]
  },
  {
   "cell_type": "code",
   "execution_count": 12,
   "metadata": {
    "collapsed": true
   },
   "outputs": [],
   "source": [
    "del data['Unnamed: 0']"
   ]
  },
  {
   "cell_type": "code",
   "execution_count": 13,
   "metadata": {
    "collapsed": true
   },
   "outputs": [],
   "source": [
    "data.columns=['pick_time','drop_time',\n",
    "              'dist_trip',\n",
    "              'pick_long','pick_lat',\n",
    "              'drop_long','drop_lat',\n",
    "              'charge']"
   ]
  },
  {
   "cell_type": "code",
   "execution_count": 15,
   "metadata": {
    "collapsed": false
   },
   "outputs": [
    {
     "data": {
      "text/html": [
       "<div>\n",
       "<table border=\"1\" class=\"dataframe\">\n",
       "  <thead>\n",
       "    <tr style=\"text-align: right;\">\n",
       "      <th></th>\n",
       "      <th>pick_time</th>\n",
       "      <th>drop_time</th>\n",
       "      <th>dist_trip</th>\n",
       "      <th>pick_long</th>\n",
       "      <th>pick_lat</th>\n",
       "      <th>drop_long</th>\n",
       "      <th>drop_lat</th>\n",
       "      <th>charge</th>\n",
       "    </tr>\n",
       "  </thead>\n",
       "  <tbody>\n",
       "    <tr>\n",
       "      <th>0</th>\n",
       "      <td>2015-01-15 19:05:39</td>\n",
       "      <td>2015-01-15 19:23:42</td>\n",
       "      <td>1.59</td>\n",
       "      <td>-73.993896</td>\n",
       "      <td>40.750111</td>\n",
       "      <td>-73.974785</td>\n",
       "      <td>40.750618</td>\n",
       "      <td>17.05</td>\n",
       "    </tr>\n",
       "    <tr>\n",
       "      <th>1</th>\n",
       "      <td>2015-01-10 20:33:38</td>\n",
       "      <td>2015-01-10 20:53:28</td>\n",
       "      <td>3.30</td>\n",
       "      <td>-74.001648</td>\n",
       "      <td>40.724243</td>\n",
       "      <td>-73.994415</td>\n",
       "      <td>40.759109</td>\n",
       "      <td>17.80</td>\n",
       "    </tr>\n",
       "    <tr>\n",
       "      <th>2</th>\n",
       "      <td>2015-01-10 20:33:38</td>\n",
       "      <td>2015-01-10 20:43:41</td>\n",
       "      <td>1.80</td>\n",
       "      <td>-73.963341</td>\n",
       "      <td>40.802788</td>\n",
       "      <td>-73.951820</td>\n",
       "      <td>40.824413</td>\n",
       "      <td>10.80</td>\n",
       "    </tr>\n",
       "    <tr>\n",
       "      <th>3</th>\n",
       "      <td>2015-01-10 20:33:39</td>\n",
       "      <td>2015-01-10 20:35:31</td>\n",
       "      <td>0.50</td>\n",
       "      <td>-74.009087</td>\n",
       "      <td>40.713818</td>\n",
       "      <td>-74.004326</td>\n",
       "      <td>40.719986</td>\n",
       "      <td>4.80</td>\n",
       "    </tr>\n",
       "    <tr>\n",
       "      <th>4</th>\n",
       "      <td>2015-01-10 20:33:39</td>\n",
       "      <td>2015-01-10 20:52:58</td>\n",
       "      <td>3.00</td>\n",
       "      <td>-73.971176</td>\n",
       "      <td>40.762428</td>\n",
       "      <td>-74.004181</td>\n",
       "      <td>40.742653</td>\n",
       "      <td>16.30</td>\n",
       "    </tr>\n",
       "  </tbody>\n",
       "</table>\n",
       "</div>"
      ],
      "text/plain": [
       "             pick_time            drop_time  dist_trip  pick_long   pick_lat  \\\n",
       "0  2015-01-15 19:05:39  2015-01-15 19:23:42       1.59 -73.993896  40.750111   \n",
       "1  2015-01-10 20:33:38  2015-01-10 20:53:28       3.30 -74.001648  40.724243   \n",
       "2  2015-01-10 20:33:38  2015-01-10 20:43:41       1.80 -73.963341  40.802788   \n",
       "3  2015-01-10 20:33:39  2015-01-10 20:35:31       0.50 -74.009087  40.713818   \n",
       "4  2015-01-10 20:33:39  2015-01-10 20:52:58       3.00 -73.971176  40.762428   \n",
       "\n",
       "   drop_long   drop_lat  charge  \n",
       "0 -73.974785  40.750618   17.05  \n",
       "1 -73.994415  40.759109   17.80  \n",
       "2 -73.951820  40.824413   10.80  \n",
       "3 -74.004326  40.719986    4.80  \n",
       "4 -74.004181  40.742653   16.30  "
      ]
     },
     "execution_count": 15,
     "metadata": {},
     "output_type": "execute_result"
    }
   ],
   "source": [
    "data.head()"
   ]
  },
  {
   "cell_type": "code",
   "execution_count": 10,
   "metadata": {
    "collapsed": true
   },
   "outputs": [],
   "source": [
    "sample = data"
   ]
  },
  {
   "cell_type": "code",
   "execution_count": 11,
   "metadata": {
    "collapsed": true
   },
   "outputs": [],
   "source": [
    "del data"
   ]
  },
  {
   "cell_type": "code",
   "execution_count": 12,
   "metadata": {
    "collapsed": false
   },
   "outputs": [
    {
     "data": {
      "text/plain": [
       "pick_time    datetime64[ns]\n",
       "drop_time    datetime64[ns]\n",
       "dist_trip           float64\n",
       "pick_long           float64\n",
       "pick_lat            float64\n",
       "drop_long           float64\n",
       "drop_lat            float64\n",
       "charge              float64\n",
       "dtype: object"
      ]
     },
     "execution_count": 12,
     "metadata": {},
     "output_type": "execute_result"
    }
   ],
   "source": [
    "sample.pick_time = pd.to_datetime(sample.pick_time)\n",
    "sample.drop_time = pd.to_datetime(sample.drop_time)\n",
    "sample.dtypes"
   ]
  },
  {
   "cell_type": "code",
   "execution_count": 13,
   "metadata": {
    "collapsed": true
   },
   "outputs": [],
   "source": [
    "import warnings\n",
    "warnings.simplefilter(\"ignore\")\n",
    "\n",
    "sample['pick_long'] = np.round(sample['pick_long'],3)\n",
    "sample['pick_lat'] = np.round(sample['pick_lat'],3)\n",
    "sample['drop_long'] = np.round(sample['drop_long'],3)\n",
    "sample['drop_lat'] = np.round(sample['drop_lat'],3)\n",
    "\n",
    "sample['year'] = 0\n",
    "sample['month'] = 0\n",
    "sample['day'] = 0\n",
    "sample['hour'] = 0\n",
    "sample['duration'] = 0"
   ]
  },
  {
   "cell_type": "code",
   "execution_count": 14,
   "metadata": {
    "collapsed": false
   },
   "outputs": [
    {
     "data": {
      "text/plain": [
       "pick_time    datetime64[ns]\n",
       "drop_time    datetime64[ns]\n",
       "dist_trip           float64\n",
       "pick_long           float64\n",
       "pick_lat            float64\n",
       "drop_long           float64\n",
       "drop_lat            float64\n",
       "charge              float64\n",
       "year                  int64\n",
       "month                 int64\n",
       "day                   int64\n",
       "hour                  int64\n",
       "duration              int64\n",
       "dtype: object"
      ]
     },
     "execution_count": 14,
     "metadata": {},
     "output_type": "execute_result"
    }
   ],
   "source": [
    "sample.dtypes"
   ]
  },
  {
   "cell_type": "code",
   "execution_count": 15,
   "metadata": {
    "collapsed": false
   },
   "outputs": [
    {
     "name": "stdout",
     "output_type": "stream",
     "text": [
      "converting time\n",
      "getting duration\n"
     ]
    }
   ],
   "source": [
    "print 'converting time'\n",
    "sample['year'] = sample.pick_time.dt.year\n",
    "sample['month'] = sample.pick_time.dt.month\n",
    "sample['day'] = sample.pick_time.dt.day\n",
    "sample['hour'] = sample.pick_time.dt.hour\n",
    "sample['weekDay'] = sample.pick_time.dt.weekday\n",
    "sample['weekNo'] = sample.pick_time.dt.week\n",
    "\n",
    "print 'getting duration'\n",
    "sample['duration'] = (sample.drop_time-sample.pick_time)/ np.timedelta64(1, 's')\n",
    "sample['trips']=1\n",
    "\n",
    "\n",
    "del sample['pick_time']\n",
    "del sample['drop_time']"
   ]
  },
  {
   "cell_type": "markdown",
   "metadata": {},
   "source": [
    "mask = (sample.pick_lat>40) & (sample.drop_lat<42)  & (sample.pick_long>-75)& (sample.drop_long<-73)\n",
    "sample = sample[mask]"
   ]
  },
  {
   "cell_type": "code",
   "execution_count": 16,
   "metadata": {
    "collapsed": false
   },
   "outputs": [
    {
     "name": "stdout",
     "output_type": "stream",
     "text": [
      "start\n",
      "stop\n"
     ]
    }
   ],
   "source": [
    "print 'start'\n",
    "sample['start'] = '('+sample['pick_lat'].astype('str')+','+sample['pick_long'].astype('str')+')'\n",
    "print 'stop'\n",
    "sample['stop'] = '('+sample['drop_lat'].astype('str')+','+sample['drop_long'].astype('str')+')'"
   ]
  },
  {
   "cell_type": "code",
   "execution_count": 18,
   "metadata": {
    "collapsed": false
   },
   "outputs": [
    {
     "data": {
      "text/html": [
       "<div>\n",
       "<table border=\"1\" class=\"dataframe\">\n",
       "  <thead>\n",
       "    <tr style=\"text-align: right;\">\n",
       "      <th></th>\n",
       "      <th>dist_trip</th>\n",
       "      <th>pick_long</th>\n",
       "      <th>pick_lat</th>\n",
       "      <th>drop_long</th>\n",
       "      <th>drop_lat</th>\n",
       "      <th>charge</th>\n",
       "      <th>year</th>\n",
       "      <th>month</th>\n",
       "      <th>day</th>\n",
       "      <th>hour</th>\n",
       "      <th>duration</th>\n",
       "      <th>weekDay</th>\n",
       "      <th>weekNo</th>\n",
       "      <th>trips</th>\n",
       "      <th>start</th>\n",
       "      <th>stop</th>\n",
       "    </tr>\n",
       "  </thead>\n",
       "  <tbody>\n",
       "    <tr>\n",
       "      <th>0</th>\n",
       "      <td>1.59</td>\n",
       "      <td>-73.994</td>\n",
       "      <td>40.750</td>\n",
       "      <td>-73.975</td>\n",
       "      <td>40.751</td>\n",
       "      <td>17.05</td>\n",
       "      <td>2015</td>\n",
       "      <td>1</td>\n",
       "      <td>15</td>\n",
       "      <td>19</td>\n",
       "      <td>1083.0</td>\n",
       "      <td>3</td>\n",
       "      <td>3</td>\n",
       "      <td>1</td>\n",
       "      <td>(40.75,-73.994)</td>\n",
       "      <td>(40.751,-73.975)</td>\n",
       "    </tr>\n",
       "    <tr>\n",
       "      <th>1</th>\n",
       "      <td>3.30</td>\n",
       "      <td>-74.002</td>\n",
       "      <td>40.724</td>\n",
       "      <td>-73.994</td>\n",
       "      <td>40.759</td>\n",
       "      <td>17.80</td>\n",
       "      <td>2015</td>\n",
       "      <td>1</td>\n",
       "      <td>10</td>\n",
       "      <td>20</td>\n",
       "      <td>1190.0</td>\n",
       "      <td>5</td>\n",
       "      <td>2</td>\n",
       "      <td>1</td>\n",
       "      <td>(40.724,-74.002)</td>\n",
       "      <td>(40.759,-73.994)</td>\n",
       "    </tr>\n",
       "    <tr>\n",
       "      <th>2</th>\n",
       "      <td>1.80</td>\n",
       "      <td>-73.963</td>\n",
       "      <td>40.803</td>\n",
       "      <td>-73.952</td>\n",
       "      <td>40.824</td>\n",
       "      <td>10.80</td>\n",
       "      <td>2015</td>\n",
       "      <td>1</td>\n",
       "      <td>10</td>\n",
       "      <td>20</td>\n",
       "      <td>603.0</td>\n",
       "      <td>5</td>\n",
       "      <td>2</td>\n",
       "      <td>1</td>\n",
       "      <td>(40.803,-73.963)</td>\n",
       "      <td>(40.824,-73.952)</td>\n",
       "    </tr>\n",
       "    <tr>\n",
       "      <th>3</th>\n",
       "      <td>0.50</td>\n",
       "      <td>-74.009</td>\n",
       "      <td>40.714</td>\n",
       "      <td>-74.004</td>\n",
       "      <td>40.720</td>\n",
       "      <td>4.80</td>\n",
       "      <td>2015</td>\n",
       "      <td>1</td>\n",
       "      <td>10</td>\n",
       "      <td>20</td>\n",
       "      <td>112.0</td>\n",
       "      <td>5</td>\n",
       "      <td>2</td>\n",
       "      <td>1</td>\n",
       "      <td>(40.714,-74.009)</td>\n",
       "      <td>(40.72,-74.004)</td>\n",
       "    </tr>\n",
       "    <tr>\n",
       "      <th>4</th>\n",
       "      <td>3.00</td>\n",
       "      <td>-73.971</td>\n",
       "      <td>40.762</td>\n",
       "      <td>-74.004</td>\n",
       "      <td>40.743</td>\n",
       "      <td>16.30</td>\n",
       "      <td>2015</td>\n",
       "      <td>1</td>\n",
       "      <td>10</td>\n",
       "      <td>20</td>\n",
       "      <td>1159.0</td>\n",
       "      <td>5</td>\n",
       "      <td>2</td>\n",
       "      <td>1</td>\n",
       "      <td>(40.762,-73.971)</td>\n",
       "      <td>(40.743,-74.004)</td>\n",
       "    </tr>\n",
       "  </tbody>\n",
       "</table>\n",
       "</div>"
      ],
      "text/plain": [
       "   dist_trip  pick_long  pick_lat  drop_long  drop_lat  charge  year  month  \\\n",
       "0       1.59    -73.994    40.750    -73.975    40.751   17.05  2015      1   \n",
       "1       3.30    -74.002    40.724    -73.994    40.759   17.80  2015      1   \n",
       "2       1.80    -73.963    40.803    -73.952    40.824   10.80  2015      1   \n",
       "3       0.50    -74.009    40.714    -74.004    40.720    4.80  2015      1   \n",
       "4       3.00    -73.971    40.762    -74.004    40.743   16.30  2015      1   \n",
       "\n",
       "   day  hour  duration  weekDay  weekNo  trips             start  \\\n",
       "0   15    19    1083.0        3       3      1   (40.75,-73.994)   \n",
       "1   10    20    1190.0        5       2      1  (40.724,-74.002)   \n",
       "2   10    20     603.0        5       2      1  (40.803,-73.963)   \n",
       "3   10    20     112.0        5       2      1  (40.714,-74.009)   \n",
       "4   10    20    1159.0        5       2      1  (40.762,-73.971)   \n",
       "\n",
       "               stop  \n",
       "0  (40.751,-73.975)  \n",
       "1  (40.759,-73.994)  \n",
       "2  (40.824,-73.952)  \n",
       "3   (40.72,-74.004)  \n",
       "4  (40.743,-74.004)  "
      ]
     },
     "execution_count": 18,
     "metadata": {},
     "output_type": "execute_result"
    }
   ],
   "source": [
    "sample.head()"
   ]
  },
  {
   "cell_type": "code",
   "execution_count": 19,
   "metadata": {
    "collapsed": false
   },
   "outputs": [],
   "source": [
    "sample.to_csv('/public/npatil4/networks/data/combined/data_'+year+'_mod2.txt',\n",
    "                         sep='|',header=True,index=False)"
   ]
  },
  {
   "cell_type": "markdown",
   "metadata": {},
   "source": [
    "#### Total trips from one node to another : in one year"
   ]
  },
  {
   "cell_type": "code",
   "execution_count": 29,
   "metadata": {
    "collapsed": false
   },
   "outputs": [],
   "source": [
    "data_grouped_year = sample.groupby(['start','stop',\n",
    "                                    'pick_lat','pick_long',\n",
    "                                    'drop_lat','drop_long'],\n",
    "                                   as_index=False).agg({'trips':sum,\n",
    "                                                        'dist_trip':sum,\n",
    "                                                        'charge':sum,\n",
    "                                                        'duration':sum})\n",
    "\n",
    "data_grouped_year.to_csv('/public/npatil4/networks/data/combined/data_'+year+'_withNodes_year.txt',\n",
    "                         sep='|',header=True,index=False)\n",
    "\n",
    "del data_grouped_year"
   ]
  },
  {
   "cell_type": "markdown",
   "metadata": {},
   "source": [
    "#### Total trips from one node to another : in one month"
   ]
  },
  {
   "cell_type": "code",
   "execution_count": 30,
   "metadata": {
    "collapsed": false
   },
   "outputs": [],
   "source": [
    "data_grouped_month = sample.groupby(['start','stop',\n",
    "                                  'pick_lat','pick_long',\n",
    "                                  'drop_lat','drop_long',\n",
    "                                  'month'],\n",
    "                                  as_index=False).agg({'trips':sum,\n",
    "                                                       'dist_trip':sum,\n",
    "                                                       'charge':sum,\n",
    "                                                       'duration':sum})\n",
    "\n",
    "\n",
    "data_grouped_month.to_csv('/public/npatil4/networks/data/combined/data_'+year+'_withNodes_month.txt',\n",
    "                         sep='|',header=True,index=False)\n",
    "del data_grouped_month"
   ]
  },
  {
   "cell_type": "markdown",
   "metadata": {},
   "source": [
    "#### Total trips from one node to another : in one day"
   ]
  },
  {
   "cell_type": "code",
   "execution_count": 31,
   "metadata": {
    "collapsed": false
   },
   "outputs": [],
   "source": [
    "data_grouped_day = sample.groupby(['start','stop',\n",
    "                                  'pick_lat','pick_long',\n",
    "                                  'drop_lat','drop_long',\n",
    "                                  'month','day'],\n",
    "                                   as_index=False).agg({'trips':sum,\n",
    "                                                        'dist_trip':sum,\n",
    "                                                        'charge':sum,\n",
    "                                                        'duration':sum})\n",
    "data_grouped_day = pd.DataFrame(data_grouped_day)\n",
    "\n",
    "\n",
    "data_grouped_day.to_csv('/public/npatil4/networks/data/combined/data_'+year+'_withNodes_day.txt',\n",
    "                         sep='|',header=True,index=False)\n",
    "del data_grouped_day"
   ]
  },
  {
   "cell_type": "markdown",
   "metadata": {},
   "source": [
    "#### Total trips from one node to another : in one hour"
   ]
  },
  {
   "cell_type": "code",
   "execution_count": 32,
   "metadata": {
    "collapsed": true
   },
   "outputs": [],
   "source": [
    "data_grouped_hour = sample.groupby(['start','stop',\n",
    "                                  'pick_lat','pick_long',\n",
    "                                  'drop_lat','drop_long',\n",
    "                                  'month','day',\n",
    "                                  'hour'],\n",
    "                                  as_index=False).agg({'trips':sum,\n",
    "                                                       'dist_trip':sum,\n",
    "                                                       'charge':sum,\n",
    "                                                       'duration':sum})\n",
    "data_grouped_hour = pd.DataFrame(data_grouped_hour)\n",
    "\n",
    "\n",
    "data_grouped_hour.to_csv('/public/npatil4/networks/data/combined/data_'+year+'_withNodes_hour.txt',\n",
    "                         sep='|',header=True,index=False)\n",
    "del data_grouped_hour"
   ]
  }
 ],
 "metadata": {
  "kernelspec": {
   "display_name": "Intel Python 2",
   "language": "python",
   "name": "intelpython-2.7.12"
  },
  "language_info": {
   "codemirror_mode": {
    "name": "ipython",
    "version": 2
   },
   "file_extension": ".py",
   "mimetype": "text/x-python",
   "name": "python",
   "nbconvert_exporter": "python",
   "pygments_lexer": "ipython2",
   "version": "2.7.12"
  },
  "widgets": {
   "state": {},
   "version": "1.1.2"
  }
 },
 "nbformat": 4,
 "nbformat_minor": 0
}
