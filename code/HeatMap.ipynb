{
 "cells": [
  {
   "cell_type": "markdown",
   "metadata": {},
   "source": [
    "install.packages('data.table', repos = \"http://cran.rstudio.com\")"
   ]
  },
  {
   "cell_type": "code",
   "execution_count": 1,
   "metadata": {
    "collapsed": true
   },
   "outputs": [
    {
     "name": "stderr",
     "output_type": "stream",
     "text": [
      "\n",
      "Attaching package: ‘dplyr’\n",
      "\n",
      "The following objects are masked from ‘package:stats’:\n",
      "\n",
      "    filter, lag\n",
      "\n",
      "The following objects are masked from ‘package:base’:\n",
      "\n",
      "    intersect, setdiff, setequal, union\n",
      "\n",
      "Loading required package: date\n",
      "Loading required package: chron\n",
      "\n",
      "Attaching package: ‘lubridate’\n",
      "\n",
      "The following objects are masked from ‘package:chron’:\n",
      "\n",
      "    days, hours, minutes, seconds, years\n",
      "\n",
      "The following object is masked from ‘package:base’:\n",
      "\n",
      "    date\n",
      "\n",
      "\n",
      "Attaching package: ‘data.table’\n",
      "\n",
      "The following objects are masked from ‘package:lubridate’:\n",
      "\n",
      "    hour, isoweek, mday, minute, month, quarter, second, wday, week,\n",
      "    yday, year\n",
      "\n",
      "The following objects are masked from ‘package:dplyr’:\n",
      "\n",
      "    between, first, last\n",
      "\n"
     ]
    }
   ],
   "source": [
    "library(ggplot2)\n",
    "library(dplyr) # data wrangling \n",
    "library(viridis) # colour blind friendly palette, works in B&W also\n",
    "library(Interpol.T) #  will generate a large dataset on initial load\n",
    "library(lubridate) # for easy date manipulation\n",
    "library(ggExtra)\n",
    "library(tidyr)\n",
    "library(data.table)"
   ]
  },
  {
   "cell_type": "code",
   "execution_count": 2,
   "metadata": {
    "collapsed": false
   },
   "outputs": [
    {
     "name": "stdout",
     "output_type": "stream",
     "text": [
      "\r",
      "Read 0.0% of 140909694 rows\r",
      "Read 0.5% of 140909694 rows\r",
      "Read 1.0% of 140909694 rows\r",
      "Read 1.5% of 140909694 rows\r",
      "Read 1.9% of 140909694 rows\r",
      "Read 2.4% of 140909694 rows\r",
      "Read 2.9% of 140909694 rows\r",
      "Read 3.4% of 140909694 rows\r",
      "Read 3.8% of 140909694 rows\r",
      "Read 4.3% of 140909694 rows\r",
      "Read 4.8% of 140909694 rows\r",
      "Read 5.3% of 140909694 rows\r",
      "Read 5.8% of 140909694 rows\r",
      "Read 6.3% of 140909694 rows\r",
      "Read 6.8% of 140909694 rows\r",
      "Read 7.3% of 140909694 rows\r",
      "Read 7.8% of 140909694 rows\r",
      "Read 8.3% of 140909694 rows\r",
      "Read 8.8% of 140909694 rows\r",
      "Read 9.3% of 140909694 rows\r",
      "Read 9.8% of 140909694 rows\r",
      "Read 10.3% of 140909694 rows\r",
      "Read 10.8% of 140909694 rows\r",
      "Read 11.3% of 140909694 rows\r",
      "Read 11.7% of 140909694 rows\r",
      "Read 12.2% of 140909694 rows\r",
      "Read 12.7% of 140909694 rows\r",
      "Read 13.2% of 140909694 rows\r",
      "Read 13.7% of 140909694 rows\r",
      "Read 14.1% of 140909694 rows\r",
      "Read 14.6% of 140909694 rows\r",
      "Read 15.1% of 140909694 rows\r",
      "Read 15.5% of 140909694 rows\r",
      "Read 16.0% of 140909694 rows\r",
      "Read 16.5% of 140909694 rows\r",
      "Read 17.0% of 140909694 rows\r",
      "Read 17.5% of 140909694 rows\r",
      "Read 18.0% of 140909694 rows\r",
      "Read 18.5% of 140909694 rows\r",
      "Read 19.0% of 140909694 rows\r",
      "Read 19.4% of 140909694 rows\r",
      "Read 19.9% of 140909694 rows\r",
      "Read 20.4% of 140909694 rows\r",
      "Read 20.9% of 140909694 rows\r",
      "Read 21.4% of 140909694 rows\r",
      "Read 21.9% of 140909694 rows\r",
      "Read 22.3% of 140909694 rows\r",
      "Read 22.8% of 140909694 rows\r",
      "Read 23.3% of 140909694 rows\r",
      "Read 23.8% of 140909694 rows\r",
      "Read 24.3% of 140909694 rows\r",
      "Read 24.8% of 140909694 rows\r",
      "Read 25.3% of 140909694 rows\r",
      "Read 25.8% of 140909694 rows\r",
      "Read 26.3% of 140909694 rows\r",
      "Read 26.8% of 140909694 rows\r",
      "Read 27.3% of 140909694 rows\r",
      "Read 27.8% of 140909694 rows\r",
      "Read 28.3% of 140909694 rows\r",
      "Read 28.8% of 140909694 rows\r",
      "Read 29.3% of 140909694 rows\r",
      "Read 29.8% of 140909694 rows\r",
      "Read 30.2% of 140909694 rows\r",
      "Read 30.7% of 140909694 rows\r",
      "Read 31.2% of 140909694 rows\r",
      "Read 31.7% of 140909694 rows\r",
      "Read 32.2% of 140909694 rows\r",
      "Read 32.7% of 140909694 rows\r",
      "Read 33.2% of 140909694 rows\r",
      "Read 33.7% of 140909694 rows\r",
      "Read 34.1% of 140909694 rows\r",
      "Read 34.6% of 140909694 rows\r",
      "Read 35.1% of 140909694 rows\r",
      "Read 35.6% of 140909694 rows\r",
      "Read 36.1% of 140909694 rows\r",
      "Read 36.6% of 140909694 rows\r",
      "Read 37.1% of 140909694 rows\r",
      "Read 37.6% of 140909694 rows\r",
      "Read 38.0% of 140909694 rows\r",
      "Read 38.5% of 140909694 rows\r",
      "Read 39.0% of 140909694 rows\r",
      "Read 39.5% of 140909694 rows\r",
      "Read 40.0% of 140909694 rows\r",
      "Read 40.5% of 140909694 rows\r",
      "Read 41.0% of 140909694 rows\r",
      "Read 41.5% of 140909694 rows\r",
      "Read 42.0% of 140909694 rows\r",
      "Read 42.5% of 140909694 rows\r",
      "Read 43.0% of 140909694 rows\r",
      "Read 43.5% of 140909694 rows\r",
      "Read 44.0% of 140909694 rows\r",
      "Read 44.5% of 140909694 rows\r",
      "Read 45.0% of 140909694 rows\r",
      "Read 45.5% of 140909694 rows\r",
      "Read 45.9% of 140909694 rows\r",
      "Read 46.4% of 140909694 rows\r",
      "Read 46.9% of 140909694 rows\r",
      "Read 47.4% of 140909694 rows\r",
      "Read 47.8% of 140909694 rows\r",
      "Read 48.3% of 140909694 rows\r",
      "Read 48.8% of 140909694 rows\r",
      "Read 49.2% of 140909694 rows\r",
      "Read 49.7% of 140909694 rows\r",
      "Read 50.2% of 140909694 rows\r",
      "Read 50.7% of 140909694 rows\r",
      "Read 51.1% of 140909694 rows\r",
      "Read 51.6% of 140909694 rows\r",
      "Read 52.1% of 140909694 rows\r",
      "Read 52.6% of 140909694 rows\r",
      "Read 53.0% of 140909694 rows\r",
      "Read 53.5% of 140909694 rows\r",
      "Read 54.0% of 140909694 rows\r",
      "Read 54.5% of 140909694 rows\r",
      "Read 55.0% of 140909694 rows\r",
      "Read 55.4% of 140909694 rows\r",
      "Read 55.9% of 140909694 rows\r",
      "Read 56.4% of 140909694 rows\r",
      "Read 56.9% of 140909694 rows\r",
      "Read 57.4% of 140909694 rows\r",
      "Read 57.8% of 140909694 rows\r",
      "Read 58.3% of 140909694 rows\r",
      "Read 58.8% of 140909694 rows\r",
      "Read 59.3% of 140909694 rows\r",
      "Read 59.8% of 140909694 rows\r",
      "Read 60.3% of 140909694 rows\r",
      "Read 60.8% of 140909694 rows\r",
      "Read 61.3% of 140909694 rows\r",
      "Read 61.8% of 140909694 rows\r",
      "Read 62.3% of 140909694 rows\r",
      "Read 62.7% of 140909694 rows\r",
      "Read 63.2% of 140909694 rows\r",
      "Read 63.7% of 140909694 rows\r",
      "Read 64.2% of 140909694 rows\r",
      "Read 64.7% of 140909694 rows\r",
      "Read 65.1% of 140909694 rows\r",
      "Read 65.6% of 140909694 rows\r",
      "Read 66.1% of 140909694 rows\r",
      "Read 66.6% of 140909694 rows\r",
      "Read 67.1% of 140909694 rows\r",
      "Read 67.5% of 140909694 rows\r",
      "Read 68.0% of 140909694 rows\r",
      "Read 68.5% of 140909694 rows\r",
      "Read 69.0% of 140909694 rows\r",
      "Read 69.4% of 140909694 rows\r",
      "Read 69.9% of 140909694 rows\r",
      "Read 70.4% of 140909694 rows\r",
      "Read 70.9% of 140909694 rows\r",
      "Read 71.4% of 140909694 rows\r",
      "Read 71.9% of 140909694 rows\r",
      "Read 72.3% of 140909694 rows\r",
      "Read 72.8% of 140909694 rows\r",
      "Read 73.3% of 140909694 rows\r",
      "Read 73.8% of 140909694 rows\r",
      "Read 74.3% of 140909694 rows\r",
      "Read 74.8% of 140909694 rows\r",
      "Read 75.2% of 140909694 rows\r",
      "Read 75.7% of 140909694 rows\r",
      "Read 76.2% of 140909694 rows\r",
      "Read 76.7% of 140909694 rows\r",
      "Read 77.2% of 140909694 rows\r",
      "Read 77.7% of 140909694 rows\r",
      "Read 78.2% of 140909694 rows\r",
      "Read 78.7% of 140909694 rows\r",
      "Read 79.2% of 140909694 rows\r",
      "Read 79.6% of 140909694 rows\r",
      "Read 80.1% of 140909694 rows\r",
      "Read 80.5% of 140909694 rows\r",
      "Read 81.0% of 140909694 rows\r",
      "Read 81.4% of 140909694 rows\r",
      "Read 81.9% of 140909694 rows\r",
      "Read 82.4% of 140909694 rows\r",
      "Read 82.8% of 140909694 rows\r",
      "Read 83.3% of 140909694 rows\r",
      "Read 83.7% of 140909694 rows\r",
      "Read 84.2% of 140909694 rows\r",
      "Read 84.7% of 140909694 rows\r",
      "Read 85.2% of 140909694 rows\r",
      "Read 85.6% of 140909694 rows\r",
      "Read 86.1% of 140909694 rows\r",
      "Read 86.6% of 140909694 rows\r",
      "Read 87.0% of 140909694 rows\r",
      "Read 87.5% of 140909694 rows\r",
      "Read 88.0% of 140909694 rows\r",
      "Read 88.5% of 140909694 rows\r",
      "Read 88.9% of 140909694 rows\r",
      "Read 89.4% of 140909694 rows\r",
      "Read 89.9% of 140909694 rows\r",
      "Read 90.4% of 140909694 rows\r",
      "Read 90.9% of 140909694 rows\r",
      "Read 91.4% of 140909694 rows\r",
      "Read 91.9% of 140909694 rows\r",
      "Read 92.3% of 140909694 rows\r",
      "Read 92.8% of 140909694 rows\r",
      "Read 93.3% of 140909694 rows\r",
      "Read 93.7% of 140909694 rows\r",
      "Read 94.2% of 140909694 rows\r",
      "Read 94.6% of 140909694 rows\r",
      "Read 95.1% of 140909694 rows\r",
      "Read 95.5% of 140909694 rows\r",
      "Read 96.0% of 140909694 rows\r",
      "Read 96.4% of 140909694 rows\r",
      "Read 96.9% of 140909694 rows\r",
      "Read 97.3% of 140909694 rows\r",
      "Read 97.8% of 140909694 rows\r",
      "Read 98.2% of 140909694 rows\r",
      "Read 98.7% of 140909694 rows\r",
      "Read 99.1% of 140909694 rows\r",
      "Read 99.6% of 140909694 rows\r",
      "Read 140909694 rows and 12 (of 12) columns from 11.042 GB file in 00:04:03\n"
     ]
    }
   ],
   "source": [
    "data = fread('/public/npatil4/networks/data/combined/decimal3/data_2015_withNodes_hour.txt',\n",
    "                   sep='|')"
   ]
  },
  {
   "cell_type": "code",
   "execution_count": 3,
   "metadata": {
    "collapsed": false
   },
   "outputs": [],
   "source": [
    "data1 <- data.frame(data)"
   ]
  },
  {
   "cell_type": "code",
   "execution_count": 4,
   "metadata": {
    "collapsed": true
   },
   "outputs": [],
   "source": [
    "rm(data)"
   ]
  },
  {
   "cell_type": "code",
   "execution_count": 7,
   "metadata": {
    "collapsed": false
   },
   "outputs": [],
   "source": [
    "df2 = data1\n",
    "df2$year = 2015\n"
   ]
  },
  {
   "cell_type": "code",
   "execution_count": 8,
   "metadata": {
    "collapsed": false
   },
   "outputs": [],
   "source": [
    "df3 = df2 %>%\n",
    "    group_by(year,month,day,hour)%>%\n",
    "    summarise(\n",
    "    average_trips = mean(trips, na.rm = TRUE),\n",
    "    total_trips = sum(trips, na.rm = TRUE),\n",
    "    average_charge = mean(sum(charge*trips)/sum(trips)),\n",
    "    average_duration = mean(sum(duration*trips)/sum(trips))\n",
    "  )"
   ]
  },
  {
   "cell_type": "code",
   "execution_count": 9,
   "metadata": {
    "collapsed": true
   },
   "outputs": [],
   "source": [
    "rm(data1)"
   ]
  },
  {
   "cell_type": "code",
   "execution_count": 10,
   "metadata": {
    "collapsed": false
   },
   "outputs": [],
   "source": [
    "df3$city = 'New York City'\n",
    "df3 <-df3 %>%\n",
    "            select(city,day,hour,month,year,average_trips) %>%\n",
    "            fill(average_trips)\n",
    "\n",
    "statno <-unique(df3$city)"
   ]
  },
  {
   "cell_type": "code",
   "execution_count": 11,
   "metadata": {
    "collapsed": false
   },
   "outputs": [
    {
     "data": {
      "text/html": [
       "<table>\n",
       "<thead><tr><th></th><th scope=col>city</th><th scope=col>day</th><th scope=col>hour</th><th scope=col>month</th><th scope=col>year</th><th scope=col>average_trips</th></tr></thead>\n",
       "<tbody>\n",
       "\t<tr><th scope=row>1</th><td>New York City   </td><td>1               </td><td>0               </td><td>1               </td><td>2015            </td><td>1.01825341331469</td></tr>\n",
       "\t<tr><th scope=row>2</th><td>New York City   </td><td>1               </td><td>1               </td><td>1               </td><td>2015            </td><td>1.01604067574217</td></tr>\n",
       "\t<tr><th scope=row>3</th><td>New York City   </td><td>1               </td><td>2               </td><td>1               </td><td>2015            </td><td>1.01426024955437</td></tr>\n",
       "\t<tr><th scope=row>4</th><td>New York City   </td><td>1               </td><td>3               </td><td>1               </td><td>2015            </td><td>1.01370567072126</td></tr>\n",
       "\t<tr><th scope=row>5</th><td>New York City   </td><td>1               </td><td>4               </td><td>1               </td><td>2015            </td><td>1.01097761785692</td></tr>\n",
       "\t<tr><th scope=row>6</th><td>New York City   </td><td>1               </td><td>5               </td><td>1               </td><td>2015            </td><td>1.00681198910082</td></tr>\n",
       "</tbody>\n",
       "</table>\n"
      ],
      "text/latex": [
       "\\begin{tabular}{r|llllll}\n",
       "  & city & day & hour & month & year & average\\_trips\\\\\n",
       "\\hline\n",
       "\t1 & New York City    & 1                & 0                & 1                & 2015             & 1.01825341331469\\\\\n",
       "\t2 & New York City    & 1                & 1                & 1                & 2015             & 1.01604067574217\\\\\n",
       "\t3 & New York City    & 1                & 2                & 1                & 2015             & 1.01426024955437\\\\\n",
       "\t4 & New York City    & 1                & 3                & 1                & 2015             & 1.01370567072126\\\\\n",
       "\t5 & New York City    & 1                & 4                & 1                & 2015             & 1.01097761785692\\\\\n",
       "\t6 & New York City    & 1                & 5                & 1                & 2015             & 1.00681198910082\\\\\n",
       "\\end{tabular}\n"
      ],
      "text/plain": [
       "           city day hour month year average_trips\n",
       "1 New York City   1    0     1 2015      1.018253\n",
       "2 New York City   1    1     1 2015      1.016041\n",
       "3 New York City   1    2     1 2015      1.014260\n",
       "4 New York City   1    3     1 2015      1.013706\n",
       "5 New York City   1    4     1 2015      1.010978\n",
       "6 New York City   1    5     1 2015      1.006812"
      ]
     },
     "metadata": {},
     "output_type": "display_data"
    }
   ],
   "source": [
    "head(df3)"
   ]
  },
  {
   "cell_type": "code",
   "execution_count": 12,
   "metadata": {
    "collapsed": false
   },
   "outputs": [],
   "source": [
    "write.table(df3,'../data/hourwise.txt',sep='|',row.names=F)"
   ]
  },
  {
   "cell_type": "code",
   "execution_count": 17,
   "metadata": {
    "collapsed": false
   },
   "outputs": [],
   "source": [
    "\n",
    "######## Plotting starts here#####################\n",
    "p <-ggplot(df3,aes(day,hour,fill=average_trips))+\n",
    "  geom_tile(color= \"white\",size=0.1) + \n",
    "  scale_fill_viridis(name='',option =\"C\")\n",
    "p <-p + facet_grid(year~month)\n",
    "p <-p + scale_y_continuous(trans = \"reverse\", breaks = unique(df3$hour),name = 1:24)\n",
    "p <-p + scale_x_continuous(breaks =c(1,10,20,31))\n",
    "p <-p + theme_minimal(base_size = 8)\n",
    "p <-p + labs(title= paste(\"Hourly Trips in\",statno), x=\"Day\", y=\"Hour Commencing\")\n",
    "p <-p + theme(legend.position = \"bottom\")+\n",
    "        theme(plot.title=element_text(size = 14))+\n",
    "        theme(axis.text.y=element_text(size=6)) +\n",
    "        theme(strip.background = element_rect(colour=\"white\"))+\n",
    "        theme(plot.title=element_text(hjust=0))+\n",
    "        theme(axis.ticks=element_blank())+\n",
    "        theme(axis.text=element_text(size=7))+\n",
    "        theme(legend.title=element_text(size=8))+\n",
    "        theme(legend.text=element_text(size=6))+\n",
    "        removeGrid()#ggExtra"
   ]
  },
  {
   "cell_type": "code",
   "execution_count": 19,
   "metadata": {
    "collapsed": false
   },
   "outputs": [
    {
     "data": {
      "text/plain": []
     },
     "metadata": {},
     "output_type": "display_data"
    },
    {
     "data": {
      "text/html": [
       "<strong>png:</strong> 2"
      ],
      "text/latex": [
       "\\textbf{png:} 2"
      ],
      "text/markdown": [
       "**png:** 2"
      ],
      "text/plain": [
       "png \n",
       "  2 "
      ]
     },
     "metadata": {},
     "output_type": "display_data"
    }
   ],
   "source": [
    "svg(filename=\"../plots/HeatMap.svg\", \n",
    "    width=24, \n",
    "    height=12, \n",
    "    pointsize=1)\n",
    "p\n",
    "dev.off()"
   ]
  },
  {
   "cell_type": "code",
   "execution_count": null,
   "metadata": {
    "collapsed": true
   },
   "outputs": [],
   "source": [
    "# you will want to expand your plot screen before this bit!\n",
    "options(repr.plot.width=4, repr.plot.height=4)\n",
    "p #awesomeness\n",
    "\n",
    "#################################"
   ]
  }
 ],
 "metadata": {
  "kernelspec": {
   "display_name": "R 3.2.5",
   "language": "R",
   "name": "ir325"
  },
  "language_info": {
   "codemirror_mode": "r",
   "file_extension": ".r",
   "mimetype": "text/x-r-source",
   "name": "R",
   "pygments_lexer": "r",
   "version": "3.2.5"
  },
  "widgets": {
   "state": {},
   "version": "1.1.2"
  }
 },
 "nbformat": 4,
 "nbformat_minor": 0
}
