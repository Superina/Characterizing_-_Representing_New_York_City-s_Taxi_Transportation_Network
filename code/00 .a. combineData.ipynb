{
 "cells": [
  {
   "cell_type": "code",
   "execution_count": 1,
   "metadata": {
    "collapsed": false
   },
   "outputs": [],
   "source": [
    "import pandas as pd"
   ]
  },
  {
   "cell_type": "code",
   "execution_count": 2,
   "metadata": {
    "collapsed": false
   },
   "outputs": [
    {
     "data": {
      "text/plain": [
       "['/scratch/npatil4/networks/data/raw/data_2015/yellow_tripdata_2015-01.csv',\n",
       " '/scratch/npatil4/networks/data/raw/data_2015/yellow_tripdata_2015-02.csv',\n",
       " '/scratch/npatil4/networks/data/raw/data_2015/yellow_tripdata_2015-03.csv',\n",
       " '/scratch/npatil4/networks/data/raw/data_2015/yellow_tripdata_2015-04.csv',\n",
       " '/scratch/npatil4/networks/data/raw/data_2015/yellow_tripdata_2015-05.csv',\n",
       " '/scratch/npatil4/networks/data/raw/data_2015/yellow_tripdata_2015-06.csv',\n",
       " '/scratch/npatil4/networks/data/raw/data_2015/yellow_tripdata_2015-07.csv',\n",
       " '/scratch/npatil4/networks/data/raw/data_2015/yellow_tripdata_2015-08.csv',\n",
       " '/scratch/npatil4/networks/data/raw/data_2015/yellow_tripdata_2015-09.csv',\n",
       " '/scratch/npatil4/networks/data/raw/data_2015/yellow_tripdata_2015-10.csv',\n",
       " '/scratch/npatil4/networks/data/raw/data_2015/yellow_tripdata_2015-11.csv',\n",
       " '/scratch/npatil4/networks/data/raw/data_2015/yellow_tripdata_2015-12.csv']"
      ]
     },
     "execution_count": 2,
     "metadata": {},
     "output_type": "execute_result"
    }
   ],
   "source": [
    "year = '2015'\n",
    "path = '/scratch/npatil4/networks/data/raw/data_'\n",
    "month = [ '0'+str(num) if num<10 else str(num) for num in range(1,13,1)]\n",
    "\n",
    "files = [path+year+'/yellow_tripdata_'+year+'-' +m +'.csv' for m in month]\n",
    "files"
   ]
  },
  {
   "cell_type": "code",
   "execution_count": 3,
   "metadata": {
    "collapsed": false
   },
   "outputs": [],
   "source": [
    "data = pd.read_csv(files[0])\n",
    "columns_all = [str(x) for x in data.columns]\n",
    "columns_use = ['tpep_pickup_datetime',\n",
    "         'tpep_dropoff_datetime',\n",
    "         'trip_distance',\n",
    "         'pickup_longitude',\n",
    "         'pickup_latitude',\n",
    "         'dropoff_longitude',\n",
    "         'dropoff_latitude',\n",
    "         'total_amount']\n",
    "\n",
    "#data = data[columns_use]"
   ]
  },
  {
   "cell_type": "markdown",
   "metadata": {
    "collapsed": false
   },
   "source": [
    "#### Append all datasets to create a single dataframe\n",
    "#### To run, convert into code\n",
    "\n",
    "`\n",
    "for file in files[1:]:\n",
    "    data2 = pd.read_csv(file,names=columns_all,usecols=columns_use,skiprows=1)\n",
    "    data = pd.concat([data,data2],ignore_index=True)\n",
    "    del data2\n",
    "`"
   ]
  },
  {
   "cell_type": "code",
   "execution_count": 54,
   "metadata": {
    "collapsed": false
   },
   "outputs": [
    {
     "data": {
      "text/plain": [
       "(146112989, 8)"
      ]
     },
     "execution_count": 54,
     "metadata": {},
     "output_type": "execute_result"
    }
   ],
   "source": [
    "data.shape"
   ]
  },
  {
   "cell_type": "markdown",
   "metadata": {
    "collapsed": true
   },
   "source": [
    "#### To write file, convert into code-cell\n",
    "\n",
    "`\n",
    "data.to_csv('/scratch/npatil4/networks/data/data_'+str(year)+'.csv')\n",
    "`"
   ]
  }
 ],
 "metadata": {
  "kernelspec": {
   "display_name": "Python 2 (pylab)",
   "language": "python",
   "name": "python-2.7.10-b1-pylab"
  },
  "language_info": {
   "codemirror_mode": {
    "name": "ipython",
    "version": 2
   },
   "file_extension": ".py",
   "mimetype": "text/x-python",
   "name": "python",
   "nbconvert_exporter": "python",
   "pygments_lexer": "ipython2",
   "version": "2.7.10"
  },
  "widgets": {
   "state": {},
   "version": "1.1.2"
  }
 },
 "nbformat": 4,
 "nbformat_minor": 0
}
