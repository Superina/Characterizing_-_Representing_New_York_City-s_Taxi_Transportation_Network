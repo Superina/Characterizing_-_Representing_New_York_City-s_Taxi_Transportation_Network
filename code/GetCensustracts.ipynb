{
 "cells": [
  {
   "cell_type": "code",
   "execution_count": 2,
   "metadata": {
    "collapsed": true
   },
   "outputs": [],
   "source": [
    "%matplotlib inline"
   ]
  },
  {
   "cell_type": "code",
   "execution_count": 3,
   "metadata": {
    "collapsed": false
   },
   "outputs": [],
   "source": [
    "import pandas as pd\n",
    "import numpy as np\n",
    "import networkx as nx"
   ]
  },
  {
   "cell_type": "code",
   "execution_count": 4,
   "metadata": {
    "collapsed": true
   },
   "outputs": [],
   "source": [
    "data_path = '/public/npatil4/networks/data/combined/'"
   ]
  },
  {
   "cell_type": "code",
   "execution_count": 5,
   "metadata": {
    "collapsed": true
   },
   "outputs": [],
   "source": [
    "file_year = data_path + 'data_2015_withNodes_year.txt'\n",
    "data_year = pd.read_csv(file_year,\n",
    "                        sep='|')"
   ]
  },
  {
   "cell_type": "code",
   "execution_count": 6,
   "metadata": {
    "collapsed": false
   },
   "outputs": [],
   "source": [
    "def data_limited(df):\n",
    "    \n",
    "    mask = (\n",
    "        (data_year.pick_long.between(-75,-73).values) & \n",
    "        (data_year.pick_lat.between(40,41).values) &\n",
    "        (data_year.drop_long.between(-75,-73).values) & \n",
    "        (data_year.drop_lat.between(40,41).values)\n",
    "        )\n",
    "    \n",
    "    return(mask)\n",
    "\n",
    "def data_limited2(df):\n",
    "    \n",
    "    mask = (\n",
    "        (data_year.pick_long.between(-74.02,-73.92).values) & \n",
    "        (data_year.pick_lat.between(40.70,40.85).values) &\n",
    "        (data_year.drop_long.between(-74.02,-73.92).values) & \n",
    "        (data_year.drop_lat.between(40.70,40.85).values)\n",
    "        )\n",
    "    \n",
    "    return(mask)"
   ]
  },
  {
   "cell_type": "markdown",
   "metadata": {},
   "source": [
    "##### Trips in manhattan"
   ]
  },
  {
   "cell_type": "code",
   "execution_count": 7,
   "metadata": {
    "collapsed": false
   },
   "outputs": [
    {
     "name": "stdout",
     "output_type": "stream",
     "text": [
      "Routes :  11146000\n",
      "Trips :  125169721\n"
     ]
    }
   ],
   "source": [
    "mask = (data_limited2(data_year))\n",
    "print 'Routes : ',sum(mask)\n",
    "print 'Trips : ',data_year.trips[mask].sum()"
   ]
  },
  {
   "cell_type": "markdown",
   "metadata": {},
   "source": [
    "##### Graph Generation and total nodes"
   ]
  },
  {
   "cell_type": "code",
   "execution_count": 8,
   "metadata": {
    "collapsed": true
   },
   "outputs": [],
   "source": [
    "data_nwk =nx.DiGraph()\n",
    "data_nwk = nx.from_pandas_dataframe(df = data_year[mask],\n",
    "                                    source='start',\n",
    "                                    target='stop',\n",
    "                                    edge_attr=['trips'],\n",
    "                                    create_using=data_nwk)"
   ]
  },
  {
   "cell_type": "code",
   "execution_count": 9,
   "metadata": {
    "collapsed": true
   },
   "outputs": [],
   "source": [
    "del data_year"
   ]
  },
  {
   "cell_type": "code",
   "execution_count": null,
   "metadata": {
    "collapsed": true
   },
   "outputs": [],
   "source": [
    "from censusgeocode import CensusGeocode\n",
    "cg = CensusGeocode()\n",
    "\n",
    "graph = data_nwk\n",
    "graph_census_tracts = {}\n",
    "graph_census_blocks ={}\n",
    "\n",
    "node_list = graph.nodes()\n",
    "census_data = {\n",
    "                str(x):cg.coordinates( eval(x)[1], eval(x)[0] )\n",
    "                for x in node_list\n",
    "                }"
   ]
  },
  {
   "cell_type": "code",
   "execution_count": 12,
   "metadata": {
    "collapsed": false
   },
   "outputs": [],
   "source": [
    "for node in node_list:\n",
    "    \n",
    "    graph_census_tracts[node] = census_data[node][0]['Census Tracts']\n",
    "    graph_census_blocks[node] = census_data[node][0]['2010 Census Blocks']\n",
    "\n",
    "    \n",
    "\n",
    "# Matching geo-coordinate to census tract\n",
    "\n",
    "graph_census_tracts_2 = pd.DataFrame.from_dict(\n",
    "                        { location:graph_census_tracts[location][0] \n",
    "                          for location in graph_census_tracts.keys()}).transpose()\n",
    "graph_census_tracts_2.reset_index(inplace=True)\n",
    "\n",
    "# Matching geo-coordinate to census Block\n",
    "\n",
    "graph_census_blocks_2 = pd.DataFrame.from_dict(\n",
    "                        { location:graph_census_blocks[location][0] \n",
    "                          for location in graph_census_blocks.keys()}).transpose()\n",
    "graph_census_blocks_2.reset_index(inplace=True)\n",
    "\n",
    "\n",
    "\n",
    "graph_census_tracts_2.to_csv('../data/graph_censusTract_full.txt',sep='|',index=False)\n",
    "graph_census_blocks_2.to_csv('../data/graph_censusBlock_full.txt',sep='|',index=False)"
   ]
  }
 ],
 "metadata": {
  "kernelspec": {
   "display_name": "Intel Python 2",
   "language": "python",
   "name": "intelpython-2.7.12"
  },
  "language_info": {
   "codemirror_mode": {
    "name": "ipython",
    "version": 2
   },
   "file_extension": ".py",
   "mimetype": "text/x-python",
   "name": "python",
   "nbconvert_exporter": "python",
   "pygments_lexer": "ipython2",
   "version": "2.7.12"
  },
  "widgets": {
   "state": {},
   "version": "1.1.2"
  }
 },
 "nbformat": 4,
 "nbformat_minor": 0
}
