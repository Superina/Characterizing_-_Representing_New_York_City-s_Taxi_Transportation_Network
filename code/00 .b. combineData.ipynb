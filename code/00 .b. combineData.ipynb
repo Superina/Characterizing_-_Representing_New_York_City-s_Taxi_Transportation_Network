{
 "cells": [
  {
   "cell_type": "code",
   "execution_count": null,
   "metadata": {
    "collapsed": true
   },
   "outputs": [],
   "source": [
    "%matplotlib inline\n",
    "\n",
    "\n",
    "import pandas as pd\n",
    "import numpy as np\n",
    "import datetime as dt\n",
    "import matplotlib.pyplot as plt\n",
    "import seaborn as sns\n",
    "import igraph as ix\n",
    "import networkx as nx\n",
    "import graphistry"
   ]
  },
  {
   "cell_type": "code",
   "execution_count": null,
   "metadata": {
    "collapsed": true
   },
   "outputs": [],
   "source": [
    "file_year = '/public/npatil4/networks/data/combined/data_2015_withNodes_year.txt'\n",
    "data_year = pd.read_csv(file_year,\n",
    "                        sep='|')"
   ]
  },
  {
   "cell_type": "code",
   "execution_count": null,
   "metadata": {
    "collapsed": true
   },
   "outputs": [],
   "source": [
    "data_year = data_year[data_year.start!=data_year.stop]"
   ]
  },
  {
   "cell_type": "code",
   "execution_count": null,
   "metadata": {
    "collapsed": true
   },
   "outputs": [],
   "source": [
    "sns.set_style('whitegrid')\n",
    "sns.plt.plot(data_month.groupby('month')['trips'].sum()/10**6)\n",
    "ax = plt.gca()\n",
    "ax.xaxis.set_major_formatter(FormatStrFormatter('%.f'))\n",
    "ax.yaxis.set_major_formatter(FormatStrFormatter('%.0000f'))\n",
    "plt.xticks(np.arange(1,13,1))\n",
    "sns.plt.ylabel('# of trips(x$10^6$)')\n",
    "sns.plt.xlabel('Month')\n",
    "sns.plt.ylim((9,14))\n",
    "sns.plt.xlim((1,12))\n",
    "sns.plt.title('No. of trips in each month')\n",
    "sns.plt.grid(color='r', linestyle='--', linewidth=0.1)\n",
    "sns.plt.savefig('../plots/MontwiseDistribution.png',dpi=450)"
   ]
  },
  {
   "cell_type": "code",
   "execution_count": null,
   "metadata": {
    "collapsed": true
   },
   "outputs": [],
   "source": [
    "sns.plt.figure(figsize=(10,6))\n",
    "\n",
    "sns.plt.plot(data_day.groupby(['month','day'],as_index=False)['trips'].sum()/10^3)\n",
    "\n",
    "ax = plt.gca()\n",
    "ax.xaxis.set_major_formatter(FormatStrFormatter('%.f'))\n",
    "ax.yaxis.set_major_formatter(FormatStrFormatter('%.0000f'))\n",
    "\n",
    "\n",
    "plt.xticks(np.arange(1,365,30),np.arange(1,13,1))\n",
    "sns.plt.ylabel('# of trips (x$10^3$)')\n",
    "sns.plt.xlabel('Month')\n",
    "sns.plt.title('Daywise distribution of trips')\n",
    "sns.plt.grid(color='r', linestyle='--', linewidth=0.1)"
   ]
  },
  {
   "cell_type": "code",
   "execution_count": null,
   "metadata": {
    "collapsed": true
   },
   "outputs": [],
   "source": [
    "data_hour.loc[(data_hour.hour>=0)&(data_hour.hour<6),'period'] = '00-06'\n",
    "data_hour.loc[(data_hour.hour>=6)&(data_hour.hour<12),'period'] = '06-12'\n",
    "data_hour.loc[(data_hour.hour>=12)&(data_hour.hour<18),'period'] = '12-18'\n",
    "data_hour.loc[(data_hour.hour>=18)&(data_hour.hour<24),'period'] = '18-24'"
   ]
  },
  {
   "cell_type": "code",
   "execution_count": null,
   "metadata": {
    "collapsed": true
   },
   "outputs": [],
   "source": [
    "sns.plt.figure(figsize=(9,5))\n",
    "sns.set_style('whitegrid')\n",
    "sns.kdeplot(data_year[data.trips>=500]['trips'])\n",
    "sns.plt.xlabel('# of trips')\n",
    "#sns.plt.ylabel('Frequency')"
   ]
  },
  {
   "cell_type": "markdown",
   "metadata": {},
   "source": [
    "##### Monthwise-weekday trips"
   ]
  },
  {
   "cell_type": "code",
   "execution_count": null,
   "metadata": {
    "collapsed": true
   },
   "outputs": [],
   "source": [
    "data_hour_period = data_hour[data_limited(data_hour)].groupby(['start','hour'],as_index=False)['trips'].sum()\n",
    "\n",
    "data_hour_period['hour'] = data_hour_period.hour.astype('O')\n",
    "\n",
    "\n",
    "data_hour_period_heatmap = data_hour_period[\n",
    "                           data_hour_period.start.isin(data_nwk.nodes())\n",
    "                            ].pivot('start','hour','trips')\n",
    "\n",
    "data_hour_period_heatmap['total'] = data_hour_period_heatmap.apply(sum,axis=1)\n",
    "data_hour_period_heatmap['latitude'] = data_hour_period_heatmap.index.map(\n",
    "                                       lambda x : float(x.split(',')[0].replace('(','')))\n",
    "\n",
    "data_hour_period_heatmap['longitude'] = data_hour_period_heatmap.index.map(\n",
    "                                       lambda x : float(x.split(',')[1].replace(')','')))"
   ]
  },
  {
   "cell_type": "code",
   "execution_count": null,
   "metadata": {
    "collapsed": true
   },
   "outputs": [],
   "source": [
    "data_day['dayofweek'] = pd.to_datetime('2015'+\n",
    "                         '-'+\n",
    "                         data_hour['month'].astype('str')+\n",
    "                         '-'+\n",
    "                         data_hour['day'].astype('str')\n",
    "                         ).dt.dayofweek\n",
    "\n",
    "data_day['dayofweek'] = data_day_weekday['dayofweek'].astype('O')\n",
    "data_day_weekday = data_day[data_limited(data_day)]\n",
    "data_day_weekday.to_csv('/public/npatil4/networks/data/data_weekday_hour.txt',sep='|')"
   ]
  },
  {
   "cell_type": "code",
   "execution_count": null,
   "metadata": {
    "collapsed": true
   },
   "outputs": [],
   "source": [
    "data_day_weekday = pd.read_csv('/public/npatil4/networks/data/data_weekday_hour.txt',\n",
    "                               sep='|')\n",
    "data_day_heatmap = pd.DataFrame(data_day_weekday.groupby(\n",
    "                    ['month','dayofweek'],\n",
    "                    as_index=False)['trips'].mean())\n",
    "data_day_heatmap['month'] = data_day_heatmap['month'].astype('O')\n",
    "data_day_heatmap['dayofweek'] = data_day_heatmap['dayofweek'].astype('O')"
   ]
  },
  {
   "cell_type": "code",
   "execution_count": null,
   "metadata": {
    "collapsed": true
   },
   "outputs": [],
   "source": [
    "days = ['Monday', 'Tuesday', 'Wednesday',\n",
    "        'Thursday', 'Friday', 'Saturday',\n",
    "        'Sunday']\n",
    "\n",
    "data_hour['dayofweek'] = pd.to_datetime('2015'+\n",
    "                         '-'+\n",
    "                         data_hour['month'].astype('str')+\n",
    "                         '-'+\n",
    "                         data_hour['day'].astype('str')\n",
    "                         ).dt.dayofweek\n",
    "data_hour_weekday.head(2)"
   ]
  },
  {
   "cell_type": "markdown",
   "metadata": {},
   "source": [
    "##### Hourwise-weekday trips"
   ]
  },
  {
   "cell_type": "code",
   "execution_count": null,
   "metadata": {
    "collapsed": true
   },
   "outputs": [],
   "source": [
    "data_hour['dayofweek'] = data_hour['dayofweek'].astype('O')\n",
    "data_hour_weekday = data_hour[data_limited(data_hour)]\n",
    "data_hour_weekday.to_csv('/public/npatil4/networks/data/data_weekday_hour.txt',sep='|')"
   ]
  },
  {
   "cell_type": "code",
   "execution_count": null,
   "metadata": {
    "collapsed": true
   },
   "outputs": [],
   "source": [
    "#data_hour_weekday = pd.read_csv('/public/npatil4/networks/data/data_weekday_hour.txt',sep='|')\n",
    "data_weekday_heatmap = pd.DataFrame(data_day_weekday[['hour','dayofweek','trips']].groupby(\n",
    "                    ['hour','dayofweek'],\n",
    "                    as_index=False)['trips'].mean())\n",
    "data_weekday_heatmap['hour']=data_weekday_heatmap['hour'].astype('O')\n",
    "data_weekday_heatmap['dayofweek'] = data_weekday_heatmap['dayofweek'].astype('O')"
   ]
  }
 ],
 "metadata": {
  "kernelspec": {
   "display_name": "Python 2 (pylab)",
   "language": "python",
   "name": "python-2.7.10-b1-pylab"
  },
  "language_info": {
   "codemirror_mode": {
    "name": "ipython",
    "version": 2
   },
   "file_extension": ".py",
   "mimetype": "text/x-python",
   "name": "python",
   "nbconvert_exporter": "python",
   "pygments_lexer": "ipython2",
   "version": "2.7.10"
  },
  "widgets": {
   "state": {},
   "version": "1.1.2"
  }
 },
 "nbformat": 4,
 "nbformat_minor": 0
}
