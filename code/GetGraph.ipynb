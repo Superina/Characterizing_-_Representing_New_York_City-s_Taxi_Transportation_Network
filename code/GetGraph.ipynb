{
 "cells": [
  {
   "cell_type": "code",
   "execution_count": 24,
   "metadata": {
    "collapsed": true
   },
   "outputs": [],
   "source": [
    "%matplotlib inline"
   ]
  },
  {
   "cell_type": "code",
   "execution_count": 25,
   "metadata": {
    "collapsed": false
   },
   "outputs": [],
   "source": [
    "import pandas as pd\n",
    "import numpy as np\n",
    "import datetime as dt\n",
    "import matplotlib.pyplot as plt\n",
    "import seaborn as sns\n",
    "import igraph as ix\n",
    "import networkx as nx\n",
    "import graphistry"
   ]
  },
  {
   "cell_type": "code",
   "execution_count": 26,
   "metadata": {
    "collapsed": true
   },
   "outputs": [],
   "source": [
    "data_path = '/public/npatil4/networks/data/combined/'"
   ]
  },
  {
   "cell_type": "code",
   "execution_count": 27,
   "metadata": {
    "collapsed": true
   },
   "outputs": [],
   "source": [
    "file_year = data_path + 'data_2015_withNodes_year.txt'\n",
    "data_year = pd.read_csv(file_year,\n",
    "                        sep='|')"
   ]
  },
  {
   "cell_type": "markdown",
   "metadata": {
    "collapsed": true
   },
   "source": [
    "file_month = data_path + 'data_2015_withNodes_month.txt'\n",
    "data_month = pd.read_csv(file_month,\n",
    "                       sep='|')"
   ]
  },
  {
   "cell_type": "markdown",
   "metadata": {
    "collapsed": true
   },
   "source": [
    "file_day = data_path + 'data_2015_withNodes_day.txt'\n",
    "data_day = pd.read_csv(file_day,\n",
    "                        sep='|')"
   ]
  },
  {
   "cell_type": "markdown",
   "metadata": {
    "collapsed": true
   },
   "source": [
    "file_hour = data_path + 'data_2015_withNodes_hour.txt'\n",
    "data_hour = pd.read_csv(file_hour,\n",
    "                        sep='|')"
   ]
  },
  {
   "cell_type": "code",
   "execution_count": 28,
   "metadata": {
    "collapsed": false
   },
   "outputs": [],
   "source": [
    "def data_limited(df):\n",
    "    \n",
    "    mask = (\n",
    "        (data_year.pick_long.between(-75,-73).values) & \n",
    "        (data_year.pick_lat.between(40,41).values) &\n",
    "        (data_year.drop_long.between(-75,-73).values) & \n",
    "        (data_year.drop_lat.between(40,41).values)\n",
    "        )\n",
    "    \n",
    "    return(mask)\n",
    "\n",
    "def data_limited2(df):\n",
    "    \n",
    "    mask = (\n",
    "        (data_year.pick_long.between(-74.02,-73.92).values) & \n",
    "        (data_year.pick_lat.between(40.70,40.85).values) &\n",
    "        (data_year.drop_long.between(-74.02,-73.92).values) & \n",
    "        (data_year.drop_lat.between(40.70,40.85).values)\n",
    "        )\n",
    "    \n",
    "    return(mask)"
   ]
  },
  {
   "cell_type": "markdown",
   "metadata": {},
   "source": [
    "##### Trips in manhattan"
   ]
  },
  {
   "cell_type": "code",
   "execution_count": 29,
   "metadata": {
    "collapsed": false
   },
   "outputs": [
    {
     "name": "stdout",
     "output_type": "stream",
     "text": [
      "11914860\n",
      "126527283\n"
     ]
    }
   ],
   "source": [
    "mask = (data_limited2(data_year))\n",
    "print 'Routes : ',sum(mask)\n",
    "print 'Trips : ',data_year.trips[mask].sum()"
   ]
  },
  {
   "cell_type": "code",
   "execution_count": 172,
   "metadata": {
    "collapsed": false
   },
   "outputs": [
    {
     "data": {
      "text/plain": [
       "17620"
      ]
     },
     "execution_count": 172,
     "metadata": {},
     "output_type": "execute_result"
    }
   ],
   "source": [
    "len(data_year[mask].start.unique())"
   ]
  },
  {
   "cell_type": "markdown",
   "metadata": {},
   "source": [
    "##### Trips in manhattan >=500"
   ]
  },
  {
   "cell_type": "code",
   "execution_count": 30,
   "metadata": {
    "collapsed": false,
    "scrolled": true
   },
   "outputs": [
    {
     "name": "stdout",
     "output_type": "stream",
     "text": [
      "7545\n",
      "6175107\n"
     ]
    }
   ],
   "source": [
    "mask1 = (data_limited2(data_year)) & (data_year['trips']>=500)\n",
    "print 'Routes : ',sum(mask1)\n",
    "print 'Trips : ',sum(data_year.trips[mask1])"
   ]
  },
  {
   "cell_type": "markdown",
   "metadata": {},
   "source": [
    "##### Trips in manhattan <500"
   ]
  },
  {
   "cell_type": "code",
   "execution_count": 31,
   "metadata": {
    "collapsed": false,
    "scrolled": true
   },
   "outputs": [
    {
     "name": "stdout",
     "output_type": "stream",
     "text": [
      "11907315\n",
      "120352176\n"
     ]
    }
   ],
   "source": [
    "mask2 = (data_limited2(data_year)) & (data_year['trips']<500)\n",
    "print 'Routes : ',sum(mask2)\n",
    "print 'Trips : ',sum(data_year.trips[mask2])"
   ]
  },
  {
   "cell_type": "markdown",
   "metadata": {},
   "source": [
    "##### Graph Generation and total nodes"
   ]
  },
  {
   "cell_type": "code",
   "execution_count": 32,
   "metadata": {
    "collapsed": true
   },
   "outputs": [],
   "source": [
    "data_nwk =nx.DiGraph()\n",
    "data_nwk = nx.from_pandas_dataframe(df = data_year[mask],\n",
    "                                    source='start',\n",
    "                                    target='stop',\n",
    "                                    edge_attr=['trips'],\n",
    "                                    create_using=data_nwk)"
   ]
  },
  {
   "cell_type": "markdown",
   "metadata": {
    "collapsed": true
   },
   "source": [
    "data_nwk1 =nx.DiGraph()\n",
    "data_nwk1 = nx.from_pandas_dataframe(df = data_year[mask1],\n",
    "                                    source='start',\n",
    "                                    target='stop',\n",
    "                                    edge_attr=['trips'],\n",
    "                                    create_using=data_nwk1)"
   ]
  },
  {
   "cell_type": "markdown",
   "metadata": {
    "collapsed": false
   },
   "source": [
    "data_nwk2 =nx.DiGraph()\n",
    "data_nwk2 = nx.from_pandas_dataframe(df = data_year[mask2],\n",
    "                                    source='start',\n",
    "                                    target='stop',\n",
    "                                    edge_attr=['trips'],\n",
    "                                    create_using=data_nwk2)"
   ]
  },
  {
   "cell_type": "markdown",
   "metadata": {
    "collapsed": false
   },
   "source": [
    "{\n",
    "    'All':data_nwk.number_of_nodes(),\n",
    "    'Frequent':data_nwk1.number_of_nodes(),\n",
    "    'in-frequent':data_nwk2.number_of_nodes()\n",
    "}"
   ]
  },
  {
   "cell_type": "markdown",
   "metadata": {},
   "source": [
    "#### Degree distrbution of the graph"
   ]
  },
  {
   "cell_type": "code",
   "execution_count": 36,
   "metadata": {
    "collapsed": false
   },
   "outputs": [
    {
     "data": {
      "text/plain": [
       "<matplotlib.text.Text at 0x2b5554947450>"
      ]
     },
     "execution_count": 36,
     "metadata": {},
     "output_type": "execute_result"
    },
    {
     "data": {
      "image/png": "[encoded data removed]",
      "text/plain": [
       "<matplotlib.figure.Figure at 0x2b5554b26b10>"
      ]
     },
     "metadata": {},
     "output_type": "display_data"
    }
   ],
   "source": [
    "degree_plot = plt.figure(figsize=(15,6))\n",
    "sns.set_style('whitegrid')\n",
    "\n",
    "degree_plot.add_subplot(121)\n",
    "degree_sequence = sorted(data_nwk.out_degree().values(),reverse=True)\n",
    "\n",
    "plt.loglog(degree_sequence,\n",
    "           'b-',\n",
    "           marker='.',\n",
    "           markersize =2,\n",
    "           rasterized=False)\n",
    "plt.title(\"Degree-rank plot : All trips\")\n",
    "plt.ylabel(\"degree\")\n",
    "plt.xlabel(\"rank\")\n",
    "\n",
    "degree_plot.add_subplot(122)\n",
    "degree_sequence = sorted(data_nwk1.out_degree().values(),reverse=True)\n",
    "\n",
    "plt.loglog(degree_sequence,\n",
    "           'b-',\n",
    "           marker='.',\n",
    "           markersize =2,\n",
    "           rasterized=False)\n",
    "plt.title(\"Degree-rank plot : In-frequent trips\")\n",
    "plt.ylabel(\"degree\")\n",
    "plt.xlabel(\"rank\")\n",
    "\n",
    "\n",
    "#plt.savefig('../plots/DegreeDistribution.png',dpi=700)"
   ]
  }
 ],
 "metadata": {
  "kernelspec": {
   "display_name": "Intel Python 2",
   "language": "python",
   "name": "intelpython-2.7.12"
  },
  "language_info": {
   "codemirror_mode": {
    "name": "ipython",
    "version": 2
   },
   "file_extension": ".py",
   "mimetype": "text/x-python",
   "name": "python",
   "nbconvert_exporter": "python",
   "pygments_lexer": "ipython2",
   "version": "2.7.12"
  },
  "widgets": {
   "state": {},
   "version": "1.1.2"
  }
 },
 "nbformat": 4,
 "nbformat_minor": 0
}
