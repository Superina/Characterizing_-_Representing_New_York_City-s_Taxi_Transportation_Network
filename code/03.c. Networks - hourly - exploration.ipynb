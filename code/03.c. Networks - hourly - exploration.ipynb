{
 "cells": [
  {
   "cell_type": "code",
   "execution_count": null,
   "metadata": {
    "collapsed": true
   },
   "outputs": [],
   "source": [
    "%matplotlib inline\n",
    "\n",
    "import pandas as pd\n",
    "import numpy as np\n",
    "import datetime as dt\n",
    "import matplotlib.pyplot as plt\n",
    "import seaborn as sns\n",
    "import igraph as ig\n",
    "import networkx as nx\n",
    "import graphistry"
   ]
  },
  {
   "cell_type": "code",
   "execution_count": 2,
   "metadata": {
    "collapsed": false
   },
   "outputs": [],
   "source": [
    "data_path = '/public/npatil4/networks/data/combined/'\n",
    "\n",
    "file_hour = data_path + 'hourwise.txt'\n",
    "data_hour = pd.read_csv(file_hour,\n",
    "                        sep='|')"
   ]
  },
  {
   "cell_type": "code",
   "execution_count": 3,
   "metadata": {
    "collapsed": true
   },
   "outputs": [],
   "source": [
    "def data_limited(df):\n",
    "    \n",
    "    mask = (\n",
    "        (df.pick_long.between(-75,-73).values) & \n",
    "        (df.pick_lat.between(40,41).values) &\n",
    "        (df.drop_long.between(-75,-73).values) & \n",
    "        (df.drop_lat.between(40,41).values) &\n",
    "        (df.start!=data_year.stop)\n",
    "        )\n",
    "    \n",
    "    return(mask)\n",
    "\n",
    "def data_limited2(df):\n",
    "    \n",
    "    mask = (\n",
    "        (df.pick_long.between(-74.02,-73.92).values) & \n",
    "        (df.pick_lat.between(40.70,40.85).values) &\n",
    "        (df.drop_long.between(-74.02,-73.92).values) & \n",
    "        (df.drop_lat.between(40.70,40.85).values)\n",
    "        )\n",
    "    \n",
    "    return(mask)"
   ]
  },
  {
   "cell_type": "markdown",
   "metadata": {},
   "source": [
    "#### Mask : Geo-bound"
   ]
  },
  {
   "cell_type": "code",
   "execution_count": 4,
   "metadata": {
    "collapsed": false
   },
   "outputs": [
    {
     "name": "stdout",
     "output_type": "stream",
     "text": [
      "Routes :  122803015\n",
      "Trips :  125169721\n"
     ]
    }
   ],
   "source": [
    "mask = (data_limited2(data_hour))\n",
    "print 'Routes : ',sum(mask)\n",
    "print 'Trips : ',data_hour.trips[mask].sum()"
   ]
  },
  {
   "cell_type": "markdown",
   "metadata": {},
   "source": [
    "#### Generate graph"
   ]
  },
  {
   "cell_type": "markdown",
   "metadata": {},
   "source": [
    "data_nwk =nx.DiGraph()\n",
    "data_nwk = nx.from_pandas_dataframe(df = data_hour[mask],\n",
    "                                    source='start',\n",
    "                                    target='stop',\n",
    "                                    edge_attr=['trips'],\n",
    "                                    create_using=data_nwk)"
   ]
  },
  {
   "cell_type": "markdown",
   "metadata": {},
   "source": [
    "#### Map geo-cordinates to census-tract"
   ]
  },
  {
   "cell_type": "code",
   "execution_count": 5,
   "metadata": {
    "collapsed": false
   },
   "outputs": [],
   "source": [
    "graph_census_tracts_2 = pd.read_csv('../data/graph_censusTract_full.txt',sep='|')\n",
    "graph_census_tracts_2.columns = ['start_tract']+[str(x) for x in graph_census_tracts_2.columns[1:]]\n",
    "for col in graph_census_tracts_2.columns:\n",
    "    graph_census_tracts_2[col] = graph_census_tracts_2[col].astype('str')\n",
    "    \n",
    "    \n",
    "graph_census_tracts_2['CENTLAT'] = graph_census_tracts_2.CENTLAT.astype('float')\n",
    "graph_census_tracts_2['CENTLON'] = graph_census_tracts_2.CENTLON.astype('float')"
   ]
  },
  {
   "cell_type": "code",
   "execution_count": 6,
   "metadata": {
    "collapsed": false
   },
   "outputs": [],
   "source": [
    "data_use = data_hour[mask].merge(graph_census_tracts_2[\n",
    "                            ['CENTLAT','CENTLON','start_tract','GEOID']],\n",
    "                left_on='start',right_on='start_tract').merge(\n",
    "                            graph_census_tracts_2[\n",
    "                            ['CENTLAT','CENTLON','start_tract','GEOID']],\n",
    "                left_on='stop',right_on='start_tract')"
   ]
  },
  {
   "cell_type": "code",
   "execution_count": 9,
   "metadata": {
    "collapsed": false
   },
   "outputs": [],
   "source": [
    "data_use['date'] = pd.to_datetime(data_use.date)\n",
    "data_use['weekDay'] = data_use.date.dt.weekday"
   ]
  },
  {
   "cell_type": "code",
   "execution_count": 10,
   "metadata": {
    "collapsed": false
   },
   "outputs": [],
   "source": [
    "columns = ['trips','dist_trip',\n",
    "           'CENTLAT_x','CENTLON_x',\n",
    "           'start_tract_x','GEOID_x',\n",
    "           'CENTLAT_y','CENTLON_y',\n",
    "           'start_tract_y','GEOID_y',\n",
    "           'pick_lat','pick_long',\n",
    "           'drop_lat','drop_long',\n",
    "           'date']\n",
    "\n",
    "data_use=data_use[columns]\n",
    "\n",
    "data_use.columns = ['trips','dist_trip',\n",
    "                    'startLat','startLong',\n",
    "                    'start_original','startGeoId',\n",
    "                    'stopLat','stopLong',\n",
    "                    'stop_original','stopGeoId',\n",
    "                    'pick_lat','pick_long',\n",
    "                    'drop_lat','drop_long',\n",
    "                    'date']\n",
    "\n",
    "\n",
    "data_use2 = data_use.groupby(['startGeoId','stopGeoId',\n",
    "                             'startLat','startLong',\n",
    "                             'stopLat','stopLong',\n",
    "                             'date'],\n",
    "                            as_index=False)['trips'].sum()\n",
    "\n",
    "data_use3 = data_use.groupby(['start_original','stop_original',\n",
    "                             'pick_lat','pick_long',\n",
    "                             'drop_lat','drop_long',\n",
    "                             'date'],\n",
    "                            as_index=False)['trips'].sum()"
   ]
  },
  {
   "cell_type": "code",
   "execution_count": 13,
   "metadata": {
    "collapsed": false
   },
   "outputs": [
    {
     "data": {
      "text/plain": [
       "(122803015, 8)"
      ]
     },
     "execution_count": 13,
     "metadata": {},
     "output_type": "execute_result"
    }
   ],
   "source": [
    "data_use3.shape"
   ]
  },
  {
   "cell_type": "code",
   "execution_count": 52,
   "metadata": {
    "collapsed": true
   },
   "outputs": [],
   "source": [
    "data_use3['day'] = data_use3.date.dt.hour\n",
    "data_use3['hour'] = data_use3.date.dt.hour\n",
    "data_use3['weekDay'] = data_use3.date.dt.weekday_name"
   ]
  },
  {
   "cell_type": "code",
   "execution_count": 53,
   "metadata": {
    "collapsed": false
   },
   "outputs": [],
   "source": [
    "data_hour_grouped_out = data_use3.groupby(['start_original',\n",
    "                             'pick_lat','pick_long',\n",
    "                             'day','hour'],\n",
    "                             as_index=False)['trips'].sum()\n",
    "data_hour_grouped_in = data_use3.groupby(['stop_original',\n",
    "                             'drop_lat','drop_long',\n",
    "                             'hour'],\n",
    "                             as_index=False)['trips'].sum()\n",
    "\n",
    "data_hour_grouped_out = data_use3.groupby(['start_original',\n",
    "                             'pick_lat','pick_long','hour'],\n",
    "                             as_index=False)['trips'].mean()\n",
    "data_hour_grouped_in = data_use3.groupby(['stop_original',\n",
    "                             'drop_lat','drop_long','hour'],\n",
    "                             as_index=False)['trips'].mean()"
   ]
  },
  {
   "cell_type": "code",
   "execution_count": 50,
   "metadata": {
    "collapsed": false
   },
   "outputs": [],
   "source": [
    "data_use2['day'] = data_use2.date.dt.dayofyear\n",
    "data_use2['hour'] = data_use2.date.dt.hour\n",
    "data_use2['weekDay'] = data_use.date.dt.weekday_name\n",
    "\n",
    "data_hour_grouped_out = data_use2.groupby(['startGeoId',\n",
    "                             'startLat','startLong',\n",
    "                             'day','hour'],\n",
    "                             as_index=False)['trips'].sum()\n",
    "\n",
    "data_hour_grouped_out = data_use2.groupby(['startGeoId',\n",
    "                             'startLat','startLong',\n",
    "                             'hour'],\n",
    "                             as_index=False)['trips'].mean()\n",
    "\n",
    "data_hour_grouped_in = data_use2.groupby(['stopGeoId',\n",
    "                             'stopLat','stopLong',\n",
    "                             'day','hour'],\n",
    "                             as_index=False)['trips'].sum()\n",
    "data_hour_grouped_in = data_use2.groupby(['stopGeoId',\n",
    "                             'stopLat','stopLong',\n",
    "                             'hour'],\n",
    "                             as_index=False)['trips'].mean()"
   ]
  },
  {
   "cell_type": "code",
   "execution_count": 54,
   "metadata": {
    "collapsed": true
   },
   "outputs": [],
   "source": [
    "data_hour_grouped_out.to_csv('../data/data_use_outgoing_original.txt',index=False)\n",
    "data_hour_grouped_in.to_csv('../data/data_use_incoming_original.txt',index=False)"
   ]
  }
 ],
 "metadata": {
  "kernelspec": {
   "display_name": "Intel Python 2",
   "language": "python",
   "name": "intelpython-2.7.12"
  },
  "language_info": {
   "codemirror_mode": {
    "name": "ipython",
    "version": 2
   },
   "file_extension": ".py",
   "mimetype": "text/x-python",
   "name": "python",
   "nbconvert_exporter": "python",
   "pygments_lexer": "ipython2",
   "version": "2.7.12"
  },
  "widgets": {
   "state": {},
   "version": "1.1.2"
  }
 },
 "nbformat": 4,
 "nbformat_minor": 0
}
